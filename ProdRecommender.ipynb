{
  "nbformat": 4,
  "nbformat_minor": 0,
  "metadata": {
    "colab": {
      "provenance": [],
      "gpuType": "T4"
    },
    "kernelspec": {
      "name": "python3",
      "display_name": "Python 3"
    },
    "language_info": {
      "name": "python"
    }
  },
  "cells": [
    {
      "cell_type": "code",
      "execution_count": 4,
      "metadata": {
        "id": "WfYMPPUO4M-R"
      },
      "outputs": [],
      "source": [
        "import pandas as pd"
      ]
    },
    {
      "cell_type": "code",
      "source": [
        "images_csv_path = '/content/drive/MyDrive/datasets/images.csv'\n",
        "styles_csv_path = '/content/drive/MyDrive/datasets/styles.csv'"
      ],
      "metadata": {
        "id": "Kxkmiv9r6kIX"
      },
      "execution_count": 5,
      "outputs": []
    },
    {
      "cell_type": "code",
      "source": [
        "# Read the CSV files into pandas DataFrames and handle lines with more than ten columns\n",
        "images_df = pd.read_csv(images_csv_path)\n",
        "styles_df = pd.read_csv(styles_csv_path, warn_bad_lines=True, error_bad_lines=False)\n",
        "\n",
        "# Remove rows from both DataFrames when styles_df has more than ten columns\n",
        "styles_df = styles_df.dropna(thresh=10)\n",
        "\n",
        "# Ensure 'filename' column in images_df is of the same data type as 'id' column in styles_df\n",
        "images_df['filename'] = images_df['filename'].str.replace('.jpg', '').astype(int)\n",
        "\n",
        "# Find the common IDs between images_df and styles_df based on the 'filename' and 'id' columns\n",
        "common_ids = set(images_df['filename']) & set(styles_df['id'])\n",
        "\n",
        "# Filter images_df to only keep rows with common IDs\n",
        "images_df = images_df[images_df['filename'].isin(common_ids)]\n",
        "\n",
        "# Filter styles_df to only keep rows with common IDs\n",
        "styles_df = styles_df[styles_df['id'].isin(common_ids)]\n",
        "\n",
        "# Reset the index of both DataFrames after removing rows\n",
        "images_df = images_df.reset_index(drop=True)\n",
        "styles_df = styles_df.reset_index(drop=True)\n",
        "\n",
        "# Display the first few rows of both DataFrames to check the data\n",
        "print(\"\\nImages DataFrame:\")\n",
        "print(images_df.head())\n",
        "\n",
        "print(\"\\nStyles DataFrame:\")\n",
        "print(styles_df.head())\n"
      ],
      "metadata": {
        "colab": {
          "base_uri": "https://localhost:8080/"
        },
        "id": "7hIHHnUp60_J",
        "outputId": "1e9737f5-5eac-49da-80a1-7fa1cfd655b2"
      },
      "execution_count": 6,
      "outputs": [
        {
          "output_type": "stream",
          "name": "stderr",
          "text": [
            "<ipython-input-6-60cb0655568d>:3: FutureWarning: The error_bad_lines argument has been deprecated and will be removed in a future version. Use on_bad_lines in the future.\n",
            "\n",
            "\n",
            "  styles_df = pd.read_csv(styles_csv_path, warn_bad_lines=True, error_bad_lines=False)\n",
            "<ipython-input-6-60cb0655568d>:3: FutureWarning: The warn_bad_lines argument has been deprecated and will be removed in a future version. Use on_bad_lines in the future.\n",
            "\n",
            "\n",
            "  styles_df = pd.read_csv(styles_csv_path, warn_bad_lines=True, error_bad_lines=False)\n",
            "Skipping line 6044: expected 10 fields, saw 11\n",
            "Skipping line 6569: expected 10 fields, saw 11\n",
            "Skipping line 7399: expected 10 fields, saw 11\n",
            "Skipping line 7939: expected 10 fields, saw 11\n",
            "Skipping line 9026: expected 10 fields, saw 11\n",
            "Skipping line 10264: expected 10 fields, saw 11\n",
            "Skipping line 10427: expected 10 fields, saw 11\n",
            "Skipping line 10905: expected 10 fields, saw 11\n",
            "Skipping line 11373: expected 10 fields, saw 11\n",
            "Skipping line 11945: expected 10 fields, saw 11\n",
            "Skipping line 14112: expected 10 fields, saw 11\n",
            "Skipping line 14532: expected 10 fields, saw 11\n",
            "Skipping line 15076: expected 10 fields, saw 12\n",
            "Skipping line 29906: expected 10 fields, saw 11\n",
            "Skipping line 31625: expected 10 fields, saw 11\n",
            "Skipping line 33020: expected 10 fields, saw 11\n",
            "Skipping line 35748: expected 10 fields, saw 11\n",
            "Skipping line 35962: expected 10 fields, saw 11\n",
            "Skipping line 37770: expected 10 fields, saw 11\n",
            "Skipping line 38105: expected 10 fields, saw 11\n",
            "Skipping line 38275: expected 10 fields, saw 11\n",
            "Skipping line 38404: expected 10 fields, saw 12\n",
            "\n",
            "<ipython-input-6-60cb0655568d>:9: FutureWarning: The default value of regex will change from True to False in a future version.\n",
            "  images_df['filename'] = images_df['filename'].str.replace('.jpg', '').astype(int)\n"
          ]
        },
        {
          "output_type": "stream",
          "name": "stdout",
          "text": [
            "\n",
            "Images DataFrame:\n",
            "   filename                                               link\n",
            "0     15970  http://assets.myntassets.com/v1/images/style/p...\n",
            "1     39386  http://assets.myntassets.com/v1/images/style/p...\n",
            "2     59263  http://assets.myntassets.com/v1/images/style/p...\n",
            "3     21379  http://assets.myntassets.com/v1/images/style/p...\n",
            "4     53759  http://assets.myntassets.com/v1/images/style/p...\n",
            "\n",
            "Styles DataFrame:\n",
            "      id gender masterCategory subCategory  articleType baseColour  season  \\\n",
            "0  15970    Men        Apparel     Topwear       Shirts  Navy Blue    Fall   \n",
            "1  39386    Men        Apparel  Bottomwear        Jeans       Blue  Summer   \n",
            "2  59263  Women    Accessories     Watches      Watches     Silver  Winter   \n",
            "3  21379    Men        Apparel  Bottomwear  Track Pants      Black    Fall   \n",
            "4  53759    Men        Apparel     Topwear      Tshirts       Grey  Summer   \n",
            "\n",
            "     year   usage                             productDisplayName  \n",
            "0  2011.0  Casual               Turtle Check Men Navy Blue Shirt  \n",
            "1  2012.0  Casual             Peter England Men Party Blue Jeans  \n",
            "2  2016.0  Casual                       Titan Women Silver Watch  \n",
            "3  2011.0  Casual  Manchester United Men Solid Black Track Pants  \n",
            "4  2012.0  Casual                          Puma Men Grey T-shirt  \n"
          ]
        }
      ]
    },
    {
      "cell_type": "code",
      "source": [
        "# Merge the two DataFrames based on 'filename' and 'id' columns and make it the new 'id' column\n",
        "merged_df = pd.merge(images_df, styles_df, left_on='filename', right_on='id')\n",
        "\n",
        "# Drop the redundant 'filename' column from the merged DataFrame\n",
        "merged_df = merged_df.drop(columns=['filename'])\n",
        "\n",
        "# Rename the merged column as 'id'\n",
        "merged_df = merged_df.rename(columns={'id_x': 'id'})\n",
        "\n",
        "# Display the first few rows of the merged DataFrame to check the data\n",
        "print(\"\\nMerged DataFrame:\")\n",
        "print(merged_df.head())"
      ],
      "metadata": {
        "colab": {
          "base_uri": "https://localhost:8080/"
        },
        "id": "8J9t3r5H_vk4",
        "outputId": "515be81b-1b01-4600-981a-56cbf50e7be2"
      },
      "execution_count": 7,
      "outputs": [
        {
          "output_type": "stream",
          "name": "stdout",
          "text": [
            "\n",
            "Merged DataFrame:\n",
            "                                                link     id gender  \\\n",
            "0  http://assets.myntassets.com/v1/images/style/p...  15970    Men   \n",
            "1  http://assets.myntassets.com/v1/images/style/p...  39386    Men   \n",
            "2  http://assets.myntassets.com/v1/images/style/p...  59263  Women   \n",
            "3  http://assets.myntassets.com/v1/images/style/p...  21379    Men   \n",
            "4  http://assets.myntassets.com/v1/images/style/p...  53759    Men   \n",
            "\n",
            "  masterCategory subCategory  articleType baseColour  season    year   usage  \\\n",
            "0        Apparel     Topwear       Shirts  Navy Blue    Fall  2011.0  Casual   \n",
            "1        Apparel  Bottomwear        Jeans       Blue  Summer  2012.0  Casual   \n",
            "2    Accessories     Watches      Watches     Silver  Winter  2016.0  Casual   \n",
            "3        Apparel  Bottomwear  Track Pants      Black    Fall  2011.0  Casual   \n",
            "4        Apparel     Topwear      Tshirts       Grey  Summer  2012.0  Casual   \n",
            "\n",
            "                              productDisplayName  \n",
            "0               Turtle Check Men Navy Blue Shirt  \n",
            "1             Peter England Men Party Blue Jeans  \n",
            "2                       Titan Women Silver Watch  \n",
            "3  Manchester United Men Solid Black Track Pants  \n",
            "4                          Puma Men Grey T-shirt  \n"
          ]
        }
      ]
    },
    {
      "cell_type": "code",
      "source": [
        "from sklearn.impute import SimpleImputer"
      ],
      "metadata": {
        "id": "txNDElHeN_JB"
      },
      "execution_count": 8,
      "outputs": []
    },
    {
      "cell_type": "code",
      "source": [
        "missing_values = merged_df.isnull().sum()\n",
        "print(missing_values)"
      ],
      "metadata": {
        "colab": {
          "base_uri": "https://localhost:8080/"
        },
        "id": "APmN48dnOCTx",
        "outputId": "0d8d6957-8f5b-440c-e8ab-ed392b7855e2"
      },
      "execution_count": 9,
      "outputs": [
        {
          "output_type": "stream",
          "name": "stdout",
          "text": [
            "link                  0\n",
            "id                    0\n",
            "gender                0\n",
            "masterCategory        0\n",
            "subCategory           0\n",
            "articleType           0\n",
            "baseColour            0\n",
            "season                0\n",
            "year                  0\n",
            "usage                 0\n",
            "productDisplayName    0\n",
            "dtype: int64\n"
          ]
        }
      ]
    },
    {
      "cell_type": "code",
      "source": [
        "# Assuming you have already read the data into the 'merged_df' DataFrame after merging\n",
        "\n",
        "# Check the number of unique productDisplayName\n",
        "num_unique_product_display_names = merged_df['productDisplayName'].nunique()\n",
        "\n",
        "# Display the result\n",
        "print(\"Number of unique id:\", num_unique_product_display_names)\n"
      ],
      "metadata": {
        "colab": {
          "base_uri": "https://localhost:8080/"
        },
        "id": "luPpv0yzORwo",
        "outputId": "188f00a6-bdf7-4755-8197-c642b5561867"
      },
      "execution_count": 10,
      "outputs": [
        {
          "output_type": "stream",
          "name": "stdout",
          "text": [
            "Number of unique id: 30806\n"
          ]
        }
      ]
    },
    {
      "cell_type": "code",
      "source": [
        "# Assuming you have already read the data into the 'merged_df' DataFrame after merging\n",
        "\n",
        "# Check the number of rows in the DataFrame\n",
        "num_rows = merged_df.shape[0]\n",
        "\n",
        "# Display the result\n",
        "print(\"Number of rows in the DataFrame:\", num_rows)\n"
      ],
      "metadata": {
        "colab": {
          "base_uri": "https://localhost:8080/"
        },
        "id": "H2dr3pRQPKY6",
        "outputId": "e3032bc5-81fe-41a6-d476-d0e82778c30c"
      },
      "execution_count": 11,
      "outputs": [
        {
          "output_type": "stream",
          "name": "stdout",
          "text": [
            "Number of rows in the DataFrame: 44077\n"
          ]
        }
      ]
    },
    {
      "cell_type": "code",
      "source": [
        "# Assuming you have already read the data into the 'merged_df' DataFrame after merging\n",
        "\n",
        "# Check the number of unique 'link' values\n",
        "num_unique_links = merged_df['link'].nunique()\n",
        "\n",
        "# Check the number of rows in the DataFrame\n",
        "num_rows = merged_df.shape[0]\n",
        "\n",
        "# Remove rows with repeated 'link' values and keep only the first occurrence\n",
        "merged_df = merged_df.drop_duplicates(subset='link', keep='first')\n",
        "\n",
        "# Check the number of rows in the DataFrame after removing duplicates\n",
        "num_rows_after_removal = merged_df.shape[0]\n",
        "\n",
        "# Display the updated number of unique 'link' values and rows in the DataFrame\n",
        "print(\"Number of unique 'link' values before removal:\", num_unique_links)\n",
        "print(\"Number of rows in the DataFrame before removal:\", num_rows)\n",
        "\n",
        "print(\"Number of unique 'link' values after removal:\", merged_df['link'].nunique())\n",
        "print(\"Number of rows in the DataFrame after removal:\", num_rows_after_removal)\n"
      ],
      "metadata": {
        "colab": {
          "base_uri": "https://localhost:8080/"
        },
        "id": "PLfB870qQCD3",
        "outputId": "faa86187-d8bb-46fb-8919-a47ccfe2bf21"
      },
      "execution_count": 12,
      "outputs": [
        {
          "output_type": "stream",
          "name": "stdout",
          "text": [
            "Number of unique 'link' values before removal: 44071\n",
            "Number of rows in the DataFrame before removal: 44077\n",
            "Number of unique 'link' values after removal: 44071\n",
            "Number of rows in the DataFrame after removal: 44071\n"
          ]
        }
      ]
    },
    {
      "cell_type": "code",
      "source": [
        "num_rows = merged_df.shape[0]\n",
        "\n",
        "# Display the result\n",
        "print(\"Number of rows in the DataFrame:\", num_rows)"
      ],
      "metadata": {
        "colab": {
          "base_uri": "https://localhost:8080/"
        },
        "id": "CWFQyj5vQDQS",
        "outputId": "5f728c76-1d00-4189-bac5-a89649be5868"
      },
      "execution_count": 13,
      "outputs": [
        {
          "output_type": "stream",
          "name": "stdout",
          "text": [
            "Number of rows in the DataFrame: 44071\n"
          ]
        }
      ]
    },
    {
      "cell_type": "code",
      "source": [
        "!pip install faiss-cpu\n"
      ],
      "metadata": {
        "colab": {
          "base_uri": "https://localhost:8080/"
        },
        "id": "ZM1m-ExHBGLV",
        "outputId": "8430d686-47b7-4a06-b1a7-304067f4c91e"
      },
      "execution_count": 14,
      "outputs": [
        {
          "output_type": "stream",
          "name": "stdout",
          "text": [
            "Collecting faiss-cpu\n",
            "  Downloading faiss_cpu-1.7.4-cp310-cp310-manylinux_2_17_x86_64.manylinux2014_x86_64.whl (17.6 MB)\n",
            "\u001b[2K     \u001b[90m━━━━━━━━━━━━━━━━━━━━━━━━━━━━━━━━━━━━━━━━\u001b[0m \u001b[32m17.6/17.6 MB\u001b[0m \u001b[31m34.4 MB/s\u001b[0m eta \u001b[36m0:00:00\u001b[0m\n",
            "\u001b[?25hInstalling collected packages: faiss-cpu\n",
            "Successfully installed faiss-cpu-1.7.4\n"
          ]
        }
      ]
    },
    {
      "cell_type": "code",
      "source": [
        "import pandas as pd\n",
        "from sklearn.feature_extraction.text import TfidfVectorizer\n",
        "from sklearn.decomposition import TruncatedSVD\n",
        "import faiss\n",
        "\n",
        "# Assuming merged_df is your DataFrame with the provided columns\n",
        "merged_df['companyName'] = merged_df['productDisplayName'].str.split().str[0]\n",
        "\n",
        "# Combine text features into a single string for TF-IDF vectorization\n",
        "merged_df['combined_features'] = merged_df['articleType'] + ' ' + merged_df['baseColour'] + ' ' + merged_df['season'] + ' ' + merged_df['year'].astype(str) + ' ' + merged_df['usage'] + ' ' + merged_df['companyName']\n",
        "\n",
        "# TF-IDF Vectorization\n",
        "tfidf_vectorizer = TfidfVectorizer()\n",
        "tfidf_matrix = tfidf_vectorizer.fit_transform(merged_df['combined_features'])\n",
        "\n",
        "# Dimensionality Reduction with Truncated SVD\n",
        "num_components = 100  # Adjust the number of components based on your memory availability\n",
        "svd = TruncatedSVD(n_components=num_components)\n",
        "reduced_tfidf_matrix = svd.fit_transform(tfidf_matrix)\n",
        "\n",
        "# Indexing with Faiss\n",
        "index = faiss.IndexFlatIP(num_components)  # Index with Inner Product (cosine similarity)\n",
        "index.add(reduced_tfidf_matrix)\n",
        "\n",
        "def get_recommendations(product_name, index, k=6):\n",
        "    # Get the index of the product\n",
        "    product_idx = merged_df.index[merged_df['productDisplayName'] == product_name].tolist()[0]\n",
        "\n",
        "    # Get the query vector\n",
        "    query_vector = reduced_tfidf_matrix[product_idx]\n",
        "\n",
        "    # Find the approximate nearest neighbors (including the query itself)\n",
        "    _, nn_indices = index.search(query_vector.reshape(1, -1), k)\n",
        "\n",
        "    # Get the product display names and IDs of the recommended products\n",
        "    recommended_products = [{'name': merged_df.iloc[idx]['productDisplayName'], 'id': merged_df.iloc[idx]['id']} for idx in nn_indices[0][1:]]\n",
        "\n",
        "    return recommended_products\n",
        "\n",
        "# Test and Evaluate\n",
        "# Example usage:\n",
        "input_product_name = \"Titan Women Silver Watch\"  # Assuming you want recommendations for this product\n",
        "recommendations = get_recommendations(input_product_name, index)\n",
        "\n",
        "# Print the recommended product display names\n",
        "print(recommendations)\n"
      ],
      "metadata": {
        "colab": {
          "base_uri": "https://localhost:8080/"
        },
        "id": "CMsSKtYB30-b",
        "outputId": "2f2568e8-0377-4f7f-f162-51656f5e2fe6"
      },
      "execution_count": 43,
      "outputs": [
        {
          "output_type": "stream",
          "name": "stdout",
          "text": [
            "[{'name': 'Titan Men White Dial Watch', 'id': 31835}, {'name': 'Titan Women Silver Dial Watch', 'id': 40543}, {'name': 'Titan Men Silver Watch', 'id': 59236}, {'name': 'Titan Women Silver Watch', 'id': 59262}, {'name': 'Titan Women Silver Watch', 'id': 59263}]\n"
          ]
        }
      ]
    },
    {
      "cell_type": "code",
      "source": [
        "input_product_name = \"Turtle Check Men Navy Blue Shirt\"  # Assuming you want recommendations for this product\n",
        "recommendations = get_recommendations(input_product_name, index)\n",
        "\n",
        "# Print the recommended product display names\n",
        "print(recommendations)"
      ],
      "metadata": {
        "colab": {
          "base_uri": "https://localhost:8080/"
        },
        "id": "_mlNl0nn_cNT",
        "outputId": "9fddd35b-b679-4704-c1b3-8ca26678614b"
      },
      "execution_count": 44,
      "outputs": [
        {
          "output_type": "stream",
          "name": "stdout",
          "text": [
            "[{'name': 'U.S. Polo Assn. Men Checks Navy Blue Shirt', 'id': 17158}, {'name': 'U.S. Polo Assn. Men Checks Navy Blue Shirt', 'id': 17170}, {'name': 'U.S. Polo Assn. Men Check Navy Blue Shirt', 'id': 19824}, {'name': 'U.S. Polo Assn. Men Striped Navy Blue Shirt', 'id': 19846}, {'name': 'U.S. Polo Assn. Men Check Navy Blue Shirt', 'id': 19830}]\n"
          ]
        }
      ]
    },
    {
      "cell_type": "code",
      "source": [
        "def get_unique_recommendations(product_name, index, k=10):\n",
        "    # Get more recommendations using the get_recommendations function\n",
        "    recommendations = get_recommendations(product_name, index, k)\n",
        "\n",
        "    # Filter out the input product itself (if it's in the recommendations)\n",
        "    recommendations = [rec for rec in recommendations if rec['name'] != product_name]\n",
        "\n",
        "    # Initialize a set to store unique recommendations\n",
        "    unique_recommendations_set = set()\n",
        "    unique_recommendations = []\n",
        "\n",
        "    for rec in recommendations:\n",
        "        # Check if the recommendation is not the same as the input product and not already in the unique recommendations\n",
        "        if rec['name'] != product_name and rec['name'] not in unique_recommendations_set:\n",
        "            unique_recommendations_set.add(rec['name'])\n",
        "            unique_recommendations.append(rec)\n",
        "\n",
        "        # Check if we have enough unique recommendations (at least 5)\n",
        "        if len(unique_recommendations) >= 5:\n",
        "            break\n",
        "\n",
        "    return unique_recommendations[:5]\n",
        "\n",
        "unique_recommendations = get_unique_recommendations(input_product_name, index)\n",
        "unique_recommendations1 = get_unique_recommendations(\"Titan Women Silver Watch\", index)\n",
        "print(\"\\nUnique Recommendations (Up to 5):\")\n",
        "print(unique_recommendations)\n",
        "print(\"\\nUnique Recommendations (Up to 5):\")\n",
        "print(unique_recommendations1)"
      ],
      "metadata": {
        "colab": {
          "base_uri": "https://localhost:8080/"
        },
        "id": "PP5vOQneR7DM",
        "outputId": "f673ec82-dfb5-4430-cc57-f88b39bca9b8"
      },
      "execution_count": 48,
      "outputs": [
        {
          "output_type": "stream",
          "name": "stdout",
          "text": [
            "\n",
            "Unique Recommendations (Up to 5):\n",
            "[{'name': 'U.S. Polo Assn. Men Checks Navy Blue Shirt', 'id': 17158}, {'name': 'U.S. Polo Assn. Men Check Navy Blue Shirt', 'id': 19824}, {'name': 'U.S. Polo Assn. Men Striped Navy Blue Shirt', 'id': 19846}, {'name': 'Puma Men Motorsport Navy Blue Shirts', 'id': 10051}, {'name': 'United Colors of Benetton Women Check Navy Blue Shirts', 'id': 16250}]\n",
            "\n",
            "Unique Recommendations (Up to 5):\n",
            "[{'name': 'Titan Men White Dial Watch', 'id': 31826}, {'name': 'Titan Men Chronograph Silver-Toned Dial Watch NA9322SL02', 'id': 31860}, {'name': 'Titan Women Raga Silver Dial Watch', 'id': 31866}, {'name': 'Titan Women Silver Dial Watch', 'id': 40543}, {'name': 'Titan Men Silver Watch', 'id': 59236}]\n"
          ]
        }
      ]
    },
    {
      "cell_type": "code",
      "source": [
        "def recommend_by_category(category, index, k=6):\n",
        "    # Get the index of products with the specified category\n",
        "    product_indices = merged_df[merged_df['articleType'] == category].index.tolist()\n",
        "\n",
        "    # Find the approximate nearest neighbors for products in the specified category\n",
        "    _, nn_indices = index.search(reduced_tfidf_matrix[product_indices], k)\n",
        "\n",
        "    # Flatten the results and remove duplicates\n",
        "    recommended_product_indices = set(nn_indices.flatten())\n",
        "\n",
        "    # Get the product display names of the recommended products\n",
        "    recommended_product_names = [merged_df.iloc[idx]['productDisplayName'] for idx in recommended_product_indices]\n",
        "\n",
        "    # Filter out the products that are not of the specified category\n",
        "    recommended_product_names = [name for name in recommended_product_names if merged_df.loc[merged_df['productDisplayName'] == name, 'articleType'].values[0] == category]\n",
        "\n",
        "    return recommended_product_names[:5]\n",
        "\n",
        "catrec = recommend_by_category(\"Jeans\", index)\n",
        "print(catrec)"
      ],
      "metadata": {
        "colab": {
          "base_uri": "https://localhost:8080/"
        },
        "id": "-YVJCBcMSa91",
        "outputId": "a9becee0-446a-41c0-f85b-6eca0ee643de"
      },
      "execution_count": 37,
      "outputs": [
        {
          "output_type": "stream",
          "name": "stdout",
          "text": [
            "['Peter England Men Party Blue Jeans', 'Wrangler Men Blue Texas Jeans', 'Jealous 21 Women Black Jeans', 'Puma Women Navy Blue Jeans', 'Wrangler Men Blue Millard Jeans']\n"
          ]
        }
      ]
    },
    {
      "cell_type": "code",
      "source": [
        "import random\n",
        "def recommend_random_products(index, k=6):\n",
        "    # Get a random sample of product indices\n",
        "    random_indices = random.sample(range(len(merged_df)), k)\n",
        "\n",
        "    # Find the approximate nearest neighbors for the randomly selected products\n",
        "    _, nn_indices = index.search(reduced_tfidf_matrix[random_indices], k)\n",
        "\n",
        "    # Flatten the results and remove duplicates\n",
        "    recommended_product_indices = set(nn_indices.flatten())\n",
        "\n",
        "    # Get the product display names of the recommended products\n",
        "    recommended_product_names = [merged_df.iloc[idx]['productDisplayName'] for idx in recommended_product_indices]\n",
        "\n",
        "    return recommended_product_names"
      ],
      "metadata": {
        "id": "fFwp8LqnTRhr"
      },
      "execution_count": 40,
      "outputs": []
    },
    {
      "cell_type": "code",
      "source": [
        "random_recommendations = recommend_random_products(index)\n",
        "print(random_recommendations)"
      ],
      "metadata": {
        "colab": {
          "base_uri": "https://localhost:8080/"
        },
        "id": "-5tibksdWwlz",
        "outputId": "cfe1250f-382d-4958-ecf1-c6b10dfdf2eb"
      },
      "execution_count": 42,
      "outputs": [
        {
          "output_type": "stream",
          "name": "stdout",
          "text": [
            "['ADIDAS Originals Men Vespa PK LO Brown Casual Shoes', 'SDL by Sweet Dreams Men Grey & Red Pyjama Set', 'Wrangler Women Blue Molly Jeans', 'Wrangler Women Blue Giselle Jeans', 'United Colors of Benetton Men Solid DK.Grey Shirts', 'U.S. Polo Assn. Men Striped Blue Shirt', 'ADIDAS Men Daroga Two 11 Lea Brown Casual Shoes', 'ADIDAS Originals Men Court Lounge Brown Casual Shoes', 'U.S. Polo Assn. Men Checks Blue Shirt', 'ADIDAS Men Brown Shoes', 'Tantra Unisex Printed Red Tshirts', 'Wrangler Women Blue Molly Jeans', 'SDL by Sweet Dreams Men Grey & Navy Blue Pyjama Set', 'United Colors of Benetton Men Grey Shirt', 'SDL by Sweet Dreams Men Grey Pyjama Set', 'Wrangler Women Blue Molly Jeans', 'ADIDAS Brown Agora Lea Casual Shoe', 'United Colors of Benetton Men Stripes Grey Shirts', 'SDL by Sweet Dreams Men Grey & Blue Pyjama Set', 'United Colors of Benetton Men Stripes Grey Shirts', 'United Colors of Benetton Men Solid Grey Shirts', 'SDL by Sweet Dreams Men Grey & Navy Blue Pyjama Set', 'U.S. Polo Assn. Men Checks  Blue Shirt', 'Wrangler Women Blue Molly Jeans', 'U.S. Polo Assn. Men Striped Blue Shirt', \"Tantra Men's Holiday India Red T-shirt\", 'Tantra Unisex Printed Red Tshirts', 'Wrangler Men Blue Texas Jeans', 'Tantra Men Hippy Red T-shirt', 'U.S. Polo Assn. Men Stripes Blue Shirt', 'Tantra Men Red T-shirt', 'United Colors of Benetton Men Grey Shirt', 'ADIDAS Originals Men Adi T Tennis Brown Casual Shoes', 'Tantra Men Red Printed T-shirt', 'U.S. Polo Assn. Men Blue & WIne Check Shirt', 'SDL by Sweet Dreams Men Grey Pyjama Set']\n"
          ]
        }
      ]
    }
  ]
}